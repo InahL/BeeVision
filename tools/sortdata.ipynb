{
 "cells": [
  {
   "cell_type": "code",
   "execution_count": 11,
   "id": "cd28d001-3008-4476-9fcd-7c187b7a4234",
   "metadata": {},
   "outputs": [
    {
     "name": "stdout",
     "output_type": "stream",
     "text": [
      "Dataset split completed! 320 training and 80 validation images.\n"
     ]
    }
   ],
   "source": [
    "import os\n",
    "import random\n",
    "import cv2\n",
    "\n",
    "def split_dataset(image_dir, label_dir, output_dir, train_ratio=0.8):\n",
    "    # Get all image and label files\n",
    "    image_files = [f for f in os.listdir(image_dir) if f.endswith(('.jpg', '.png'))]\n",
    "    label_files = [f.replace('.jpg', '.txt').replace('.png', '.txt') for f in image_files]\n",
    "\n",
    "    # Shuffle and split\n",
    "    combined = list(zip(image_files, label_files))\n",
    "    random.shuffle(combined)\n",
    "    split_index = int(len(combined) * train_ratio)\n",
    "\n",
    "    train_set = combined[:split_index]\n",
    "    val_set = combined[split_index:]\n",
    "\n",
    "    # Create output directories\n",
    "    for subset in ['train', 'val']:\n",
    "        os.makedirs(os.path.join(output_dir, 'images', subset), exist_ok=True)\n",
    "        os.makedirs(os.path.join(output_dir, 'labels', subset), exist_ok=True)\n",
    "\n",
    "    # Helper function to save files\n",
    "    def save_files(subset, data):\n",
    "        for img_file, lbl_file in data:\n",
    "            img_path = os.path.join(image_dir, img_file)\n",
    "            lbl_path = os.path.join(label_dir, lbl_file)\n",
    "\n",
    "            # Load and save image using cv2\n",
    "            img = cv2.imread(img_path)\n",
    "            if img is None:\n",
    "                print(f\"Error reading image: {img_path}\")\n",
    "                continue\n",
    "            cv2.imwrite(os.path.join(output_dir, 'images', subset, img_file), img)\n",
    "\n",
    "            # Read and write the label file manually\n",
    "            try:\n",
    "                with open(lbl_path, 'r') as src:\n",
    "                    label_content = src.read()\n",
    "\n",
    "                with open(os.path.join(output_dir, 'labels', subset, lbl_file), 'w') as dest:\n",
    "                    dest.write(label_content)\n",
    "            except FileNotFoundError:\n",
    "                print(f\"Label file not found: {lbl_path}\")\n",
    "            except PermissionError:\n",
    "                print(f\"Permission error when accessing: {lbl_path}\")\n",
    "\n",
    "    save_files('train', train_set)\n",
    "    save_files('val', val_set)\n",
    "\n",
    "    print(f\"Dataset split completed! {len(train_set)} training and {len(val_set)} validation images.\")\n",
    "\n",
    "# Example usage\n",
    "split_dataset(\n",
    "    image_dir='images',\n",
    "    label_dir='labels',\n",
    "    output_dir='output/',\n",
    "    train_ratio=0.8  # 80% train, 20% validation\n",
    ")\n"
   ]
  },
  {
   "cell_type": "code",
   "execution_count": null,
   "id": "b4cb2344-43a9-4ac0-939f-636773351a6a",
   "metadata": {},
   "outputs": [],
   "source": [
    "cv2.destroyAllWindows()"
   ]
  },
  {
   "cell_type": "code",
   "execution_count": null,
   "id": "506d0e0a-ab31-46b8-91df-271af572edcc",
   "metadata": {},
   "outputs": [],
   "source": []
  },
  {
   "cell_type": "code",
   "execution_count": null,
   "id": "3b411e18-fa20-494a-b19d-f52bd4a2eabc",
   "metadata": {},
   "outputs": [],
   "source": []
  }
 ],
 "metadata": {
  "kernelspec": {
   "display_name": "Python 3 (ipykernel)",
   "language": "python",
   "name": "python3"
  },
  "language_info": {
   "codemirror_mode": {
    "name": "ipython",
    "version": 3
   },
   "file_extension": ".py",
   "mimetype": "text/x-python",
   "name": "python",
   "nbconvert_exporter": "python",
   "pygments_lexer": "ipython3",
   "version": "3.10.12"
  }
 },
 "nbformat": 4,
 "nbformat_minor": 5
}
